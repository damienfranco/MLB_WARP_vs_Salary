{
 "cells": [
  {
   "cell_type": "code",
   "execution_count": 1,
   "metadata": {},
   "outputs": [],
   "source": [
    "import requests\n",
    "import pandas as pd\n",
    "import json\n",
    "import numpy as np\n",
    "import matplotlib.pyplot as plt\n",
    "import statsapi"
   ]
  },
  {
   "cell_type": "code",
   "execution_count": 6,
   "metadata": {},
   "outputs": [],
   "source": [
    "#Gets player stat data from MLB stats API\n",
    "def playerStats(group):    \n",
    "    \n",
    "    #Gets the team ids required for the player stats endpoint\n",
    "    url = f\"http://lookup-service-prod.mlb.com/json/named.team_all_season.bam?sport_code='mlb'&all_star_sw='N'&sort_order='name_asc'&season=2020\"\n",
    "    response = requests.get(url)\n",
    "    response = response.json()['team_all_season']['queryResults']['row']\n",
    "    teams_df = pd.json_normalize(response)\n",
    "    team_ids = teams_df[['mlb_org_brief','team_id']]\n",
    "\n",
    "    #Gets the player stats\n",
    "    data = []\n",
    "    for row in team_ids.itertuples():\n",
    "        for season in range(2000,2022):\n",
    "            url = f\"https://statsapi.mlb.com/api/v1/stats?stats=season&group={group}&gameType=R&season={season}&teamId={row.team_id}&playerPool=ALL\"\n",
    "            response = requests.get(url)\n",
    "            data.append(season)\n",
    "            data += response.json()['stats'][0]['splits']\n",
    "\n",
    "    data_df = pd.json_normalize(data)\n",
    "\n",
    "    #Cleans up the data\n",
    "    for col in data_df:\n",
    "        try:\n",
    "            data_df[col] = data_df[col].astype('int32')\n",
    "        except ValueError:\n",
    "            pass\n",
    "\n",
    "    data_df.columns = data_df.columns.map(lambda x: x.split(\".\")[-1])    \n",
    "    data_df = data_df.dropna(how='all')\n",
    "\n",
    "    return data_df\n",
    "\n"
   ]
  },
  {
   "cell_type": "code",
   "execution_count": 9,
   "metadata": {},
   "outputs": [],
   "source": [
    "#Filters and renames the dataframe columns\n",
    "fielding_data_df = playerStats('fielding')[['season','fullName','id','name','assists','putOuts','errors','chances','fielding','innings','games','gamesStarted','doublePlays','triplePlays','throwingErrors']]\n",
    "\n",
    "fielding_data_df.columns = ['season','fullName','team_id','player_id','league_id','rank','team_name','league_abreviation','postionFullName', 'assists','putOuts','errors','chances','fielding',\n",
    "    'innings','games','gamesStarted','doublePlays','triplePlays','throwingErrors']\n",
    "\n",
    "\n",
    "hitting_data_df = playerStats('hitting')[['season','fullName','name','id','abbreviation','groundOuts','airOuts','runs','doubles','triples','homeRuns','strikeOuts',\n",
    "    'baseOnBalls','intentionalWalks','hits','avg','atBats','obp','slg','ops','stolenBases','caughtStealing','groundIntoDoublePlay','numberOfPitches','plateAppearances',\n",
    "    'totalBases','rbi','leftOnBase','sacBunts','sacFlies','babip']]\n",
    "\n",
    "hitting_data_df.columns = ['season','fullName','team','league1','fullPosition','team_id','player_id','league_id','rank_id','leagueAbbreviation','pos_abbreviation','groundOuts','airOuts','runs','doubles','triples','homeRuns','strikeOuts',\n",
    "    'baseOnBalls','intentionalWalks','hits','avg','atBats','obp','slg','ops','stolenBases','caughtStealing','groundIntoDoublePlay','numberOfPitches','plateAppearances',\n",
    "    'totalBases','rbi','leftOnBase','sacBunts','sacFlies','babip']\n",
    "\n",
    "pitching_data_df = playerStats('pitching')[['season','fullName','id','name','abbreviation','gamesStarted','groundOuts','airOuts','runs','doubles',\n",
    "'triples','homeRuns','strikeOuts','baseOnBalls','intentionalWalks','hits','hitByPitch','avg','era','wins','losses','saves',\n",
    "'saveOpportunities','holds','blownSaves','earnedRuns','whip','battersFaced', 'outs','gamesPitched','completeGames','shutouts',\n",
    "'strikes','strikePercentage','hitBatsmen','balks','wildPitches','pickoffs','totalBases','pitchesPerInning','gamesFinished','strikeoutWalkRatio',\n",
    "'strikeoutsPer9Inn','walksPer9Inn','runsScoredPer9','inheritedRunners','inheritedRunnersScored','sacBunts','sacFlies']]\n",
    "\n",
    "pitching_data_df.columns = ['season','fullName','team_id','player_id','league_id','rank_id','team_name','league_name','posion_name','leagueAbbreviation','pos_abbreviation','gamesStarted','groundOuts','airOuts','runs','doubles',\n",
    "'triples','homeRuns','strikeOuts','baseOnBalls','intentionalWalks','hits','hitByPitch','avg','era','wins','losses','saves',\n",
    "'saveOpportunities','holds','blownSaves','earnedRuns','whip','battersFaced', 'outs','gamesPitched','completeGames','shutouts',\n",
    "'strikes','strikePercentage','hitBatsmen','balks','wildPitches','pickoffs','totalBases','pitchesPerInning','gamesFinished','strikeoutWalkRatio',\n",
    "'strikeoutsPer9Inn','walksPer9Inn','runsScoredPer9','inheritedRunners','inheritedRunnersScored','sacBunts','sacFlies']\n",
    "\n",
    "\n",
    "\n",
    "fielding_data_df.to_csv('fielding.csv')\n",
    "hitting_data_df.to_csv('hitting.csv')\n",
    "pitching_data_df.to_csv('pitching.csv')"
   ]
  }
 ],
 "metadata": {
  "interpreter": {
   "hash": "621d14ddec017f51d6b5f1663858a5f8b4223572af2bf7ca4af98f3598acdc2b"
  },
  "kernelspec": {
   "display_name": "Python 3.7.1 ('PythonData')",
   "language": "python",
   "name": "python3"
  },
  "language_info": {
   "codemirror_mode": {
    "name": "ipython",
    "version": 3
   },
   "file_extension": ".py",
   "mimetype": "text/x-python",
   "name": "python",
   "nbconvert_exporter": "python",
   "pygments_lexer": "ipython3",
   "version": "3.7.1"
  },
  "orig_nbformat": 4
 },
 "nbformat": 4,
 "nbformat_minor": 2
}
