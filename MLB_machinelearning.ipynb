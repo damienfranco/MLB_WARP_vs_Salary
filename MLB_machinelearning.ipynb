{
 "cells": [
  {
   "cell_type": "code",
   "execution_count": 393,
   "id": "57ed63aa",
   "metadata": {},
   "outputs": [],
   "source": [
    "import numpy as np\n",
    "import matplotlib.pyplot as plt\n",
    "import pandas as pd\n",
    "from pathlib import Path\n",
    "from collections import Counter\n",
    "\n",
    "from imblearn.ensemble import BalancedRandomForestClassifier\n",
    "from sklearn.metrics import balanced_accuracy_score\n",
    "from sklearn.metrics import confusion_matrix\n",
    "from imblearn.metrics import classification_report_imbalanced"
   ]
  },
  {
   "cell_type": "code",
   "execution_count": 513,
   "id": "7a20b298",
   "metadata": {
    "scrolled": false
   },
   "outputs": [
    {
     "data": {
      "text/html": [
       "<div>\n",
       "<style scoped>\n",
       "    .dataframe tbody tr th:only-of-type {\n",
       "        vertical-align: middle;\n",
       "    }\n",
       "\n",
       "    .dataframe tbody tr th {\n",
       "        vertical-align: top;\n",
       "    }\n",
       "\n",
       "    .dataframe thead th {\n",
       "        text-align: right;\n",
       "    }\n",
       "</style>\n",
       "<table border=\"1\" class=\"dataframe\">\n",
       "  <thead>\n",
       "    <tr style=\"text-align: right;\">\n",
       "      <th></th>\n",
       "      <th>team</th>\n",
       "      <th>season</th>\n",
       "      <th>team_payroll</th>\n",
       "      <th>avg_payroll</th>\n",
       "      <th>diff</th>\n",
       "      <th>w</th>\n",
       "      <th>l</th>\n",
       "      <th>ws_win</th>\n",
       "      <th>playoffs</th>\n",
       "      <th>warp</th>\n",
       "      <th>...</th>\n",
       "      <th>pitched_home_runs</th>\n",
       "      <th>pitched_base_on_balls</th>\n",
       "      <th>pitched_hits</th>\n",
       "      <th>pitcher_average</th>\n",
       "      <th>pitched_strike_outs</th>\n",
       "      <th>saves</th>\n",
       "      <th>holds</th>\n",
       "      <th>earned_runs</th>\n",
       "      <th>whip</th>\n",
       "      <th>walks_per_9_inn</th>\n",
       "    </tr>\n",
       "  </thead>\n",
       "  <tbody>\n",
       "    <tr>\n",
       "      <th>0</th>\n",
       "      <td>Red Sox</td>\n",
       "      <td>2007</td>\n",
       "      <td>147568833</td>\n",
       "      <td>85747487</td>\n",
       "      <td>61821346</td>\n",
       "      <td>96</td>\n",
       "      <td>66</td>\n",
       "      <td>1</td>\n",
       "      <td>1</td>\n",
       "      <td>50.42</td>\n",
       "      <td>...</td>\n",
       "      <td>155</td>\n",
       "      <td>433</td>\n",
       "      <td>1336</td>\n",
       "      <td>2.8540</td>\n",
       "      <td>1079</td>\n",
       "      <td>44</td>\n",
       "      <td>73</td>\n",
       "      <td>601</td>\n",
       "      <td>14.930</td>\n",
       "      <td>51.19</td>\n",
       "    </tr>\n",
       "    <tr>\n",
       "      <th>1</th>\n",
       "      <td>Yankees</td>\n",
       "      <td>2009</td>\n",
       "      <td>203275189</td>\n",
       "      <td>92957049</td>\n",
       "      <td>110318140</td>\n",
       "      <td>103</td>\n",
       "      <td>59</td>\n",
       "      <td>1</td>\n",
       "      <td>1</td>\n",
       "      <td>26.40</td>\n",
       "      <td>...</td>\n",
       "      <td>44</td>\n",
       "      <td>140</td>\n",
       "      <td>391</td>\n",
       "      <td>1.5930</td>\n",
       "      <td>358</td>\n",
       "      <td>44</td>\n",
       "      <td>15</td>\n",
       "      <td>181</td>\n",
       "      <td>9.240</td>\n",
       "      <td>44.82</td>\n",
       "    </tr>\n",
       "    <tr>\n",
       "      <th>2</th>\n",
       "      <td>Red Sox</td>\n",
       "      <td>2013</td>\n",
       "      <td>150655000</td>\n",
       "      <td>106658387</td>\n",
       "      <td>43996613</td>\n",
       "      <td>97</td>\n",
       "      <td>65</td>\n",
       "      <td>1</td>\n",
       "      <td>1</td>\n",
       "      <td>39.34</td>\n",
       "      <td>...</td>\n",
       "      <td>26</td>\n",
       "      <td>66</td>\n",
       "      <td>199</td>\n",
       "      <td>1.1010</td>\n",
       "      <td>266</td>\n",
       "      <td>29</td>\n",
       "      <td>63</td>\n",
       "      <td>70</td>\n",
       "      <td>5.650</td>\n",
       "      <td>14.49</td>\n",
       "    </tr>\n",
       "    <tr>\n",
       "      <th>3</th>\n",
       "      <td>Blue Jays</td>\n",
       "      <td>2001</td>\n",
       "      <td>76322999</td>\n",
       "      <td>67120750</td>\n",
       "      <td>9202249</td>\n",
       "      <td>80</td>\n",
       "      <td>82</td>\n",
       "      <td>0</td>\n",
       "      <td>0</td>\n",
       "      <td>15.39</td>\n",
       "      <td>...</td>\n",
       "      <td>141</td>\n",
       "      <td>350</td>\n",
       "      <td>1193</td>\n",
       "      <td>2.1740</td>\n",
       "      <td>754</td>\n",
       "      <td>1</td>\n",
       "      <td>0</td>\n",
       "      <td>552</td>\n",
       "      <td>11.585</td>\n",
       "      <td>42.16</td>\n",
       "    </tr>\n",
       "    <tr>\n",
       "      <th>4</th>\n",
       "      <td>Cubs</td>\n",
       "      <td>2016</td>\n",
       "      <td>171611832</td>\n",
       "      <td>130290910</td>\n",
       "      <td>41320922</td>\n",
       "      <td>103</td>\n",
       "      <td>59</td>\n",
       "      <td>1</td>\n",
       "      <td>1</td>\n",
       "      <td>50.80</td>\n",
       "      <td>...</td>\n",
       "      <td>88</td>\n",
       "      <td>282</td>\n",
       "      <td>745</td>\n",
       "      <td>1.8965</td>\n",
       "      <td>788</td>\n",
       "      <td>2</td>\n",
       "      <td>36</td>\n",
       "      <td>285</td>\n",
       "      <td>10.355</td>\n",
       "      <td>34.97</td>\n",
       "    </tr>\n",
       "  </tbody>\n",
       "</table>\n",
       "<p>5 rows × 44 columns</p>\n",
       "</div>"
      ],
      "text/plain": [
       "        team  season  team_payroll  avg_payroll       diff    w   l  ws_win  \\\n",
       "0    Red Sox    2007     147568833     85747487   61821346   96  66       1   \n",
       "1    Yankees    2009     203275189     92957049  110318140  103  59       1   \n",
       "2    Red Sox    2013     150655000    106658387   43996613   97  65       1   \n",
       "3  Blue Jays    2001      76322999     67120750    9202249   80  82       0   \n",
       "4       Cubs    2016     171611832    130290910   41320922  103  59       1   \n",
       "\n",
       "   playoffs   warp  ...  pitched_home_runs  pitched_base_on_balls  \\\n",
       "0         1  50.42  ...                155                    433   \n",
       "1         1  26.40  ...                 44                    140   \n",
       "2         1  39.34  ...                 26                     66   \n",
       "3         0  15.39  ...                141                    350   \n",
       "4         1  50.80  ...                 88                    282   \n",
       "\n",
       "   pitched_hits  pitcher_average  pitched_strike_outs  saves  holds  \\\n",
       "0          1336           2.8540                 1079     44     73   \n",
       "1           391           1.5930                  358     44     15   \n",
       "2           199           1.1010                  266     29     63   \n",
       "3          1193           2.1740                  754      1      0   \n",
       "4           745           1.8965                  788      2     36   \n",
       "\n",
       "   earned_runs    whip  walks_per_9_inn  \n",
       "0          601  14.930            51.19  \n",
       "1          181   9.240            44.82  \n",
       "2           70   5.650            14.49  \n",
       "3          552  11.585            42.16  \n",
       "4          285  10.355            34.97  \n",
       "\n",
       "[5 rows x 44 columns]"
      ]
     },
     "execution_count": 513,
     "metadata": {},
     "output_type": "execute_result"
    }
   ],
   "source": [
    "# Importing the datasets\n",
    "\n",
    "datasets = pd.read_csv('Resources/final_totals.csv')\n",
    "X = datasets.iloc[:, [9,12]]\n",
    "Y = datasets.iloc[:, 5]\n",
    "datasets.head()"
   ]
  },
  {
   "cell_type": "code",
   "execution_count": null,
   "id": "a733a900",
   "metadata": {},
   "outputs": [],
   "source": [
    "\n"
   ]
  },
  {
   "cell_type": "code",
   "execution_count": 514,
   "id": "62462b0b",
   "metadata": {},
   "outputs": [],
   "source": [
    "# Splitting the dataset into the Training set and Test set\n",
    "\n",
    "from sklearn.model_selection import train_test_split\n",
    "X_Train, X_Test, Y_Train, Y_Test = train_test_split(X, Y, test_size = 0.25, random_state = 0)\n"
   ]
  },
  {
   "cell_type": "code",
   "execution_count": 515,
   "id": "9169cfee",
   "metadata": {},
   "outputs": [],
   "source": [
    "# Feature Scaling\n",
    "\n",
    "from sklearn.preprocessing import StandardScaler\n",
    "sc_X = StandardScaler()\n",
    "X_Train = sc_X.fit_transform(X_Train)\n",
    "X_Test = sc_X.transform(X_Test)"
   ]
  },
  {
   "cell_type": "code",
   "execution_count": 516,
   "id": "b9a20f07",
   "metadata": {},
   "outputs": [
    {
     "data": {
      "text/plain": [
       "RandomForestClassifier(bootstrap=True, ccp_alpha=0.0, class_weight=None,\n",
       "                       criterion='entropy', max_depth=None, max_features='auto',\n",
       "                       max_leaf_nodes=None, max_samples=None,\n",
       "                       min_impurity_decrease=0.0, min_impurity_split=None,\n",
       "                       min_samples_leaf=1, min_samples_split=2,\n",
       "                       min_weight_fraction_leaf=0.0, n_estimators=200,\n",
       "                       n_jobs=None, oob_score=False, random_state=0, verbose=0,\n",
       "                       warm_start=False)"
      ]
     },
     "execution_count": 516,
     "metadata": {},
     "output_type": "execute_result"
    }
   ],
   "source": [
    "# Fitting the classifier into the Training set\n",
    "\n",
    "from sklearn.ensemble import RandomForestClassifier\n",
    "classifier = RandomForestClassifier(n_estimators = 200, criterion = 'entropy', random_state = 0)\n",
    "classifier.fit(X_Train,Y_Train)\n"
   ]
  },
  {
   "cell_type": "code",
   "execution_count": 517,
   "id": "b9816cdf",
   "metadata": {},
   "outputs": [],
   "source": [
    "# Predicting the test set results\n",
    "\n",
    "Y_Pred = classifier.predict(X_Test)"
   ]
  },
  {
   "cell_type": "code",
   "execution_count": 518,
   "id": "bf8830f0",
   "metadata": {},
   "outputs": [],
   "source": [
    "# Making the Confusion Matrix \n",
    "\n",
    "from sklearn.metrics import confusion_matrix\n",
    "cm = confusion_matrix(Y_Test, Y_Pred)\n"
   ]
  },
  {
   "cell_type": "code",
   "execution_count": 519,
   "id": "0088b5a3",
   "metadata": {
    "scrolled": true
   },
   "outputs": [
    {
     "data": {
      "image/png": "[encoded data removed]",
      "text/plain": [
       "<Figure size 432x288 with 1 Axes>"
      ]
     },
     "metadata": {
      "needs_background": "light"
     },
     "output_type": "display_data"
    }
   ],
   "source": [
    "from matplotlib.colors import ListedColormap\n",
    "from matplotlib.axes._axes import _log as matplotlib_axes_logger\n",
    "matplotlib_axes_logger.setLevel('ERROR')\n",
    "X_Set, Y_Set = X_Train, Y_Train\n",
    "X1, X2 = np.meshgrid(np.arange(start = X_Set[:, 0].min() - 1, stop = X_Set[:, 0].max() + 1, step = 0.01),\n",
    "                     np.arange(start = X_Set[:, 1].min() - 1, stop = X_Set[:, 1].max() + 1, step = 0.01))\n",
    "plt.contourf(X1, X2, classifier.predict(np.array([X1.ravel(), X2.ravel()]).T).reshape(X1.shape),\n",
    "             alpha = 0.75, cmap = ListedColormap(('white', 'white')) )\n",
    "plt.xlim(X1.min(), X1.max())\n",
    "plt.ylim(X2.min(), X2.max())\n",
    "for i, j in enumerate(np.unique(Y_Set)):\n",
    "    plt.scatter(X_Set[Y_Set == j, 0], X_Set[Y_Set == j, 1],\n",
    "                c = ListedColormap(('black', 'black'))(i), label = j)\n",
    "plt.title('Random Forest Classifier (Training set)')\n",
    "plt.xlabel('WARP')\n",
    "plt.ylabel('Wins')\n",
    "#plt.legend()\n",
    "plt.show()"
   ]
  },
  {
   "cell_type": "code",
   "execution_count": 520,
   "id": "7bcc6508",
   "metadata": {},
   "outputs": [
    {
     "data": {
      "image/png": "[encoded data removed]",
      "text/plain": [
       "<Figure size 432x288 with 1 Axes>"
      ]
     },
     "metadata": {
      "needs_background": "light"
     },
     "output_type": "display_data"
    }
   ],
   "source": [
    "# Visualising the Test set results\n",
    "\n",
    "from matplotlib.colors import ListedColormap\n",
    "X_Set, Y_Set = X_Test, Y_Test\n",
    "X1, X2 = np.meshgrid(np.arange(start = X_Set[:, 0].min() - 1, stop = X_Set[:, 0].max() + 1, step = 0.01),\n",
    "                     np.arange(start = X_Set[:, 1].min() - 1, stop = X_Set[:, 1].max() + 1, step = 0.01))\n",
    "plt.contourf(X1, X2, classifier.predict(np.array([X1.ravel(), X2.ravel()]).T).reshape(X1.shape),\n",
    "             alpha = 0.75, cmap = ListedColormap(('white', 'white')))\n",
    "plt.xlim(X1.min(), X1.max())\n",
    "plt.ylim(X2.min(), X2.max())\n",
    "for i, j in enumerate(np.unique(Y_Set)):\n",
    "    plt.scatter(X_Set[Y_Set == j, 0], X_Set[Y_Set == j, 1],\n",
    "                c = ListedColormap(('black', 'black'))(i), label = j)\n",
    "plt.title('Random Forest Classifier (Test set)')\n",
    "plt.xlabel('WARP')\n",
    "plt.ylabel('Wins')\n",
    "#plt.legend()\n",
    "plt.show()"
   ]
  },
  {
   "cell_type": "code",
   "execution_count": 521,
   "id": "861a75b4",
   "metadata": {},
   "outputs": [
    {
     "name": "stderr",
     "output_type": "stream",
     "text": [
      "C:\\Users\\William\\anaconda3\\lib\\site-packages\\sklearn\\metrics\\_classification.py:1859: UserWarning: y_pred contains classes not in y_true\n",
      "  warnings.warn('y_pred contains classes not in y_true')\n"
     ]
    },
    {
     "data": {
      "text/plain": [
       "0.06732874968169086"
      ]
     },
     "execution_count": 521,
     "metadata": {},
     "output_type": "execute_result"
    }
   ],
   "source": [
    "y_pred = classifier.predict(X_Test)\n",
    "balanced_accuracy_score(Y_Test, y_pred)"
   ]
  },
  {
   "cell_type": "markdown",
   "id": "37d78ab0",
   "metadata": {},
   "source": [
    "\n"
   ]
  },
  {
   "cell_type": "code",
   "execution_count": 522,
   "id": "babf007e",
   "metadata": {},
   "outputs": [
    {
     "name": "stderr",
     "output_type": "stream",
     "text": [
      "C:\\Users\\William\\anaconda3\\lib\\site-packages\\sklearn\\metrics\\_classification.py:1272: UndefinedMetricWarning: Precision and F-score are ill-defined and being set to 0.0 in labels with no predicted samples. Use `zero_division` parameter to control this behavior.\n",
      "  _warn_prf(average, modifier, msg_start, len(result))\n",
      "C:\\Users\\William\\anaconda3\\lib\\site-packages\\sklearn\\metrics\\_classification.py:1272: UndefinedMetricWarning: Recall and F-score are ill-defined and being set to 0.0 in labels with no true samples. Use `zero_division` parameter to control this behavior.\n",
      "  _warn_prf(average, modifier, msg_start, len(result))\n",
      "C:\\Users\\William\\anaconda3\\lib\\site-packages\\sklearn\\metrics\\_classification.py:1272: UndefinedMetricWarning: Sensitivity is ill-defined and being set to 0.0 in labels with no true samples. Use `zero_division` parameter to control this behavior.\n",
      "  _warn_prf(average, modifier, msg_start, len(result))\n"
     ]
    },
    {
     "name": "stdout",
     "output_type": "stream",
     "text": [
      "                   pre       rec       spe        f1       geo       iba       sup\n",
      "\n",
      "         43       0.00      0.00      1.00      0.00      0.00      0.00         1\n",
      "         47       0.50      1.00      0.99      0.67      1.00      0.99         1\n",
      "         51       0.00      0.00      1.00      0.00      0.00      0.00         1\n",
      "         55       0.00      0.00      1.00      0.00      0.00      0.00         3\n",
      "         56       0.50      1.00      0.99      0.67      1.00      0.99         1\n",
      "         57       0.00      0.00      0.99      0.00      0.00      0.00         0\n",
      "         58       0.00      0.00      0.99      0.00      0.00      0.00         1\n",
      "         61       0.00      0.00      0.99      0.00      0.00      0.00         1\n",
      "         62       0.00      0.00      1.00      0.00      0.00      0.00         2\n",
      "         63       0.00      0.00      0.99      0.00      0.00      0.00         2\n",
      "         64       0.00      0.00      0.98      0.00      0.00      0.00         1\n",
      "         65       0.00      0.00      0.99      0.00      0.00      0.00         3\n",
      "         66       0.00      0.00      0.97      0.00      0.00      0.00         3\n",
      "         67       0.12      0.25      0.95      0.17      0.49      0.22         4\n",
      "         68       0.00      0.00      0.97      0.00      0.00      0.00         3\n",
      "         69       0.00      0.00      0.97      0.00      0.00      0.00         2\n",
      "         70       0.00      0.00      0.99      0.00      0.00      0.00         2\n",
      "         71       0.00      0.00      0.98      0.00      0.00      0.00         5\n",
      "         72       0.00      0.00      0.99      0.00      0.00      0.00         7\n",
      "         73       0.00      0.00      0.98      0.00      0.00      0.00         3\n",
      "         74       0.00      0.00      0.98      0.00      0.00      0.00         2\n",
      "         75       0.17      0.20      0.96      0.18      0.44      0.18         5\n",
      "         76       0.00      0.00      0.97      0.00      0.00      0.00         3\n",
      "         77       0.00      0.00      0.98      0.00      0.00      0.00         4\n",
      "         78       0.00      0.00      0.97      0.00      0.00      0.00         0\n",
      "         79       0.00      0.00      0.99      0.00      0.00      0.00         7\n",
      "         80       0.20      0.50      0.97      0.29      0.70      0.46         2\n",
      "         81       0.00      0.00      1.00      0.00      0.00      0.00         5\n",
      "         82       0.00      0.00      0.99      0.00      0.00      0.00         2\n",
      "         83       0.00      0.00      0.96      0.00      0.00      0.00         4\n",
      "         84       0.00      0.00      0.98      0.00      0.00      0.00         2\n",
      "         85       0.00      0.00      0.97      0.00      0.00      0.00         3\n",
      "         86       0.09      0.14      0.93      0.11      0.36      0.12         7\n",
      "         87       0.00      0.00      0.97      0.00      0.00      0.00         2\n",
      "         88       0.00      0.00      0.97      0.00      0.00      0.00         3\n",
      "         89       0.00      0.00      0.98      0.00      0.00      0.00         5\n",
      "         90       0.00      0.00      0.97      0.00      0.00      0.00         3\n",
      "         91       0.00      0.00      0.97      0.00      0.00      0.00         2\n",
      "         92       0.00      0.00      0.99      0.00      0.00      0.00         5\n",
      "         93       0.17      0.25      0.96      0.20      0.49      0.22         4\n",
      "         94       0.00      0.00      0.97      0.00      0.00      0.00         3\n",
      "         95       0.33      0.09      0.99      0.14      0.30      0.08        11\n",
      "         96       0.00      0.00      0.97      0.00      0.00      0.00         2\n",
      "         97       0.00      0.00      0.95      0.00      0.00      0.00         2\n",
      "         98       0.00      0.00      0.99      0.00      0.00      0.00         2\n",
      "         99       0.00      0.00      1.00      0.00      0.00      0.00         1\n",
      "        100       0.00      0.00      1.00      0.00      0.00      0.00         2\n",
      "        101       0.00      0.00      0.99      0.00      0.00      0.00         1\n",
      "        102       0.00      0.00      1.00      0.00      0.00      0.00         1\n",
      "        103       0.00      0.00      0.99      0.00      0.00      0.00         1\n",
      "        104       0.00      0.00      1.00      0.00      0.00      0.00         1\n",
      "        107       0.00      0.00      1.00      0.00      0.00      0.00         1\n",
      "        116       0.00      0.00      1.00      0.00      0.00      0.00         1\n",
      "\n",
      "avg / total       0.05      0.06      0.98      0.05      0.11      0.05       145\n",
      "\n"
     ]
    }
   ],
   "source": [
    "print(classification_report_imbalanced(Y_Test, y_pred))"
   ]
  },
  {
   "cell_type": "code",
   "execution_count": 523,
   "id": "8984d18b",
   "metadata": {},
   "outputs": [
    {
     "name": "stdout",
     "output_type": "stream",
     "text": [
      "warp: (0.5228912886141871)\n",
      "runs: (0.47710871138581296)\n"
     ]
    }
   ],
   "source": [
    "features_rank = sorted(zip(classifier.feature_importances_, X.columns), reverse=True)\n",
    "for feature in features_rank:\n",
    "    print(f\"{feature[1]}: ({feature[0]})\")"
   ]
  },
  {
   "cell_type": "code",
   "execution_count": null,
   "id": "25b8248a",
   "metadata": {},
   "outputs": [],
   "source": []
  },
  {
   "cell_type": "code",
   "execution_count": null,
   "id": "e937a135",
   "metadata": {},
   "outputs": [],
   "source": []
  }
 ],
 "metadata": {
  "kernelspec": {
   "display_name": "Python 3",
   "language": "python",
   "name": "python3"
  },
  "language_info": {
   "codemirror_mode": {
    "name": "ipython",
    "version": 3
   },
   "file_extension": ".py",
   "mimetype": "text/x-python",
   "name": "python",
   "nbconvert_exporter": "python",
   "pygments_lexer": "ipython3",
   "version": "3.8.8"
  }
 },
 "nbformat": 4,
 "nbformat_minor": 5
}
